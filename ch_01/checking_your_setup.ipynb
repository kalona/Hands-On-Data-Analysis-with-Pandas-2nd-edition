{
 "cells": [
  {
   "cell_type": "markdown",
   "metadata": {},
   "source": [
    "# Checking your setup\n",
    "Run through this notebook to make sure your environment is properly setup. Be sure to launch Jupyter from inside the virtual environment."
   ]
  },
  {
   "cell_type": "code",
   "execution_count": 1,
   "metadata": {},
   "outputs": [
    {
     "name": "stdout",
     "output_type": "stream",
     "text": [
      "Using Python in /home/codespace/.python/current:\n",
      "\u001b[42m[ OK ]\u001b[0m Python is version 3.10.4 (main, Jan 25 2023, 00:13:50) [GCC 9.4.0]\n",
      "\n",
      "\u001b[42m[ OK ]\u001b[0m graphviz\n",
      "\u001b[42m[ OK ]\u001b[0m imblearn\n",
      "\u001b[42m[ OK ]\u001b[0m ipympl\n",
      "\u001b[41m[FAIL]\u001b[0m # jupyterlab not needed for VSCode not installed.\n",
      "\u001b[42m[ OK ]\u001b[0m matplotlib\n",
      "\u001b[42m[ OK ]\u001b[0m numpy\n",
      "\u001b[42m[ OK ]\u001b[0m pandas\n",
      "\u001b[42m[ OK ]\u001b[0m requests\n",
      "\u001b[42m[ OK ]\u001b[0m sklearn\n",
      "\u001b[42m[ OK ]\u001b[0m scipy\n",
      "\u001b[42m[ OK ]\u001b[0m seaborn\n",
      "\u001b[42m[ OK ]\u001b[0m sqlalchemy\n",
      "\u001b[42m[ OK ]\u001b[0m statsmodels\n",
      "\u001b[42m[ OK ]\u001b[0m wheel\n",
      "\u001b[42m[ OK ]\u001b[0m login_attempt_simulator\n",
      "\u001b[42m[ OK ]\u001b[0m ml_utils\n",
      "\u001b[42m[ OK ]\u001b[0m stock_analysis\n",
      "\u001b[42m[ OK ]\u001b[0m visual_aids\n"
     ]
    }
   ],
   "source": [
    "from check_environment import run_checks\n",
    "run_checks()"
   ]
  },
  {
   "cell_type": "markdown",
   "metadata": {},
   "source": [
    "*Note: Adapted from Andreas Mueller's [`check_env.ipynb` notebook](https://github.com/amueller/ml-workshop-1-of-4/blob/master/check_env.ipynb).*\n",
    "\n",
    "<hr>\n",
    "<div style=\"overflow: hidden; margin-bottom: 10px;\">\n",
    "    <div style=\"float: left;\">\n",
    "         <a href=\"./introduction_to_data_analysis.ipynb\">\n",
    "            <button>&#8592; Introduction to Data Analysis</button>\n",
    "        </a>\n",
    "    </div>\n",
    "    <div style=\"float: right;\">\n",
    "        <a href=\"./python_101.ipynb\">\n",
    "            <button>Python 101</button>\n",
    "        </a>\n",
    "        <a href=\"./exercises.ipynb\">\n",
    "            <button>Exercises &#8594;</button>\n",
    "        </a>\n",
    "    </div>\n",
    "</div>\n",
    "<hr>"
   ]
  }
 ],
 "metadata": {
  "kernelspec": {
   "display_name": "Python 3",
   "language": "python",
   "name": "python3"
  },
  "language_info": {
   "codemirror_mode": {
    "name": "ipython",
    "version": 3
   },
   "file_extension": ".py",
   "mimetype": "text/x-python",
   "name": "python",
   "nbconvert_exporter": "python",
   "pygments_lexer": "ipython3",
   "version": "3.10.4"
  },
  "vscode": {
   "interpreter": {
    "hash": "3ad933181bd8a04b432d3370b9dc3b0662ad032c4dfaa4e4f1596c548f763858"
   }
  }
 },
 "nbformat": 4,
 "nbformat_minor": 4
}
